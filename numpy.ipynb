{
 "cells": [
  {
   "cell_type": "code",
   "execution_count": null,
   "metadata": {},
   "outputs": [],
   "source": [
    "import numpy as np"
   ]
  },
  {
   "cell_type": "code",
   "execution_count": null,
   "metadata": {},
   "outputs": [],
   "source": [
    "# numpy array -> 숫자와 문자를 같이 쓰면 문자로 통일\n",
    "# 1, 3, 5 숫자, 'a', 'b' 문자\n",
    "a = [1, 3, 5, 'a', 'b']\n",
    "# '1', '3', '5', 'a', 'b' 문자로 통일\n",
    "b = np.array([1, 3, 5, 'a', 'b'])\n",
    "print(a)\n",
    "print(b)"
   ]
  },
  {
   "cell_type": "code",
   "execution_count": null,
   "metadata": {},
   "outputs": [],
   "source": [
    "# 배열 안에 배열의 크기가 고정되지 않아도 문제 X\n",
    "a = [[1], [3, 5], [2, 4, 6]]\n",
    "# b = np.array([[1], [3, 5], [2, 4, 6]])\n",
    "c = np.array([[1, 2], [3, 5], [2, 6]])\n",
    "print(a)\n",
    "print(c)"
   ]
  },
  {
   "cell_type": "code",
   "execution_count": null,
   "metadata": {},
   "outputs": [],
   "source": [
    "# 배열 연산\n",
    "a = [1, 3, 5]\n",
    "b = [2, 4, 6]\n",
    "c = [0, 0]\n",
    "\n",
    "# 1, 3, 5, 2, 4, 6, 0, 0\n",
    "print(a + b + c)\n",
    "# 1, 3, 5, 1, 3, 5, 1, 3, 5\n",
    "print(a * 3)"
   ]
  },
  {
   "cell_type": "code",
   "execution_count": null,
   "metadata": {},
   "outputs": [],
   "source": [
    "# numpy array 연산\n",
    "# 배열의 크기가 같아야된다\n",
    "a = np.array([1, 3, 5])\n",
    "b = np.array([2, 4, 6])\n",
    "\n",
    "# 각 index를 더해 준 배열\n",
    "# 1+2, 3+4, 5+6\n",
    "print(a + b)\n",
    "# 1*2, 3*4, 5*6\n",
    "print(a * b)\n",
    "# 1+2, 3+2, 5+2\n",
    "print(a + 2)\n",
    "# 1*3, 3*3, 5*3\n",
    "print(a * 3)"
   ]
  },
  {
   "cell_type": "code",
   "execution_count": null,
   "metadata": {},
   "outputs": [],
   "source": [
    "# numpy array method\n",
    "a = [1, 3, 5]\n",
    "b = np.array([1, 3, 5])\n",
    "\n",
    "# a.mean()\n",
    "print(b.mean())\n",
    "print(b.argmax())\n",
    "print(b.round())\n",
    "print(b.shape)\n",
    "c = np.array([[[1, 2, 3, 1], [4, 5, 6, 1], [1, 2, 3, 4]], \n",
    "[[11, 21, 31, 11], [41, 51, 61, 11], [11, 21, 31, 41]]])\n",
    "print(c.shape)\n",
    "print('c slicing')\n",
    "print(c[:,:,:])\n",
    "print(c[0,0,:])\n",
    "print(c[1, 1, :])\n",
    "print(c[:,:,2])\n",
    "print(c[:,2,2])\n",
    "d = np.array([[0, 1, 2, 3], [4, 5, 6, 7]])\n",
    "print(d[0,:])\n",
    "print(d[1,:])\n",
    "print(d[:,0])\n",
    "print(d[:,2])"
   ]
  }
 ],
 "metadata": {
  "kernelspec": {
   "display_name": "base",
   "language": "python",
   "name": "python3"
  },
  "language_info": {
   "codemirror_mode": {
    "name": "ipython",
    "version": 3
   },
   "file_extension": ".py",
   "mimetype": "text/x-python",
   "name": "python",
   "nbconvert_exporter": "python",
   "pygments_lexer": "ipython3",
   "version": "3.9.13"
  },
  "orig_nbformat": 4
 },
 "nbformat": 4,
 "nbformat_minor": 2
}
