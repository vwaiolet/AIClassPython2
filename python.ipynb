{
 "cells": [
  {
   "attachments": {},
   "cell_type": "markdown",
   "metadata": {},
   "source": [
    "#### None 값이 존재하지 않는 것, 생략 가능"
   ]
  },
  {
   "cell_type": "code",
   "execution_count": 10,
   "metadata": {},
   "outputs": [
    {
     "name": "stdout",
     "output_type": "stream",
     "text": [
      "3\n",
      "5\n",
      "3\n",
      "arr\n"
     ]
    }
   ],
   "source": [
    "a = 3\n",
    "if a == 3:\n",
    "    print('3')\n",
    "if a == 4:\n",
    "    print('4')\n",
    "\n",
    "if 5:\n",
    "    print('5')\n",
    "# 대부분의 프로그래밍 언어는 0 False\n",
    "if 0:\n",
    "    print('0')\n",
    "if None:\n",
    "    print('None')\n",
    "if ():\n",
    "    print('None')\n",
    "if (3):\n",
    "    print('3')\n",
    "if []:\n",
    "    print('arr')\n",
    "if [1, 2]:\n",
    "    print('arr')"
   ]
  },
  {
   "attachments": {},
   "cell_type": "markdown",
   "metadata": {},
   "source": [
    "#### 배열 축"
   ]
  },
  {
   "cell_type": "code",
   "execution_count": 3,
   "metadata": {},
   "outputs": [
    {
     "name": "stdout",
     "output_type": "stream",
     "text": [
      "[1, 2, 3]\n",
      "[[1, 2, 3], [4, 5, 6]]\n",
      "[[[1, 2], [3, 4]], [[5, 6], [7, 8]]]\n"
     ]
    }
   ],
   "source": [
    "# axis 축 -> 리스트의 가장 밖부터 안으로 0부터 이름을 붙인 것, 진행 방향\n",
    "# 일차원 배열, 축은 하나\n",
    "# axis0 - 1->2->3 진행\n",
    "a = [1, 2, 3]\n",
    "print(a)\n",
    "\n",
    "# 이차원 배열, 축은 둘\n",
    "# axis0 - [1, 2, 3] -> [4, 5, 6]\n",
    "# axis1 - 1->2->3 or 4->5->6\n",
    "b = [[1, 2, 3], [4, 5, 6]]\n",
    "print(b)\n",
    "\n",
    "# 삼차원 배열, 축은 셋\n",
    "# axis0 - [[1, 2], [3, 4]] -> [[5, 6], [7, 8]]\n",
    "# axis1 - [1, 2]->[3,4] or [5, 6]->[7, 8]\n",
    "# axis2 - 1->2 or 3->4 or 5->6 or 7->8\n",
    "c = [[[1, 2], [3, 4]], [[5, 6], [7, 8]]]\n",
    "print(c)"
   ]
  },
  {
   "attachments": {},
   "cell_type": "markdown",
   "metadata": {},
   "source": [
    "#### array[::] 용법 -> Extended Slices"
   ]
  },
  {
   "cell_type": "code",
   "execution_count": 20,
   "metadata": {},
   "outputs": [
    {
     "name": "stdout",
     "output_type": "stream",
     "text": [
      "[1, 2, 3, 4, 5, 6, 7, 8, 9, 10]\n",
      "[1, 2, 3, 4, 5, 6, 7, 8, 9, 10]\n",
      "[1, 2, 3, 4, 5, 6, 7, 8, 9, 10]\n",
      "[1, 3, 5, 7, 9]\n",
      "[3, 5, 7, 9]\n",
      "[10, 9, 8, 7, 6, 5, 4, 3, 2, 1]\n",
      "[10, 8, 6, 4, 2]\n",
      "[4, 3, 2, 1]\n",
      "[2, 4, 6]\n"
     ]
    }
   ],
   "source": [
    "# arr[A:B:C] -> index A부터 index B까지 C의 간격으로 배열을 만들어라\n",
    "# A가 None -> 처음부터\n",
    "# B가 None -> 할 수 있는데 까지 (끝까지)\n",
    "# C가 None -> 한칸 간격\n",
    "arr = [1, 2, 3, 4, 5, 6, 7, 8, 9, 10]\n",
    "print(arr[None:None:None])\n",
    "print(arr[::1]) # 처음부터 끝까지 한칸 간격으로\n",
    "print(arr[::]) # 처음부터 끝까지 한칸 간격으로\n",
    "print(arr[::2]) # 처음부터 끝까지 두칸 간격으로\n",
    "print(arr[2::2]) # index 2 부터 끝까지 두칸 간격으로\n",
    "print(arr[::-1]) # 처음부터 끝까지 -1칸 간격으로 -> 역순으로\n",
    "print(arr[::-2]) # 처음부터 끝까지 -2칸 간격으로 -> 역순, 두칸\n",
    "print(arr[3::-1]) # index 3 부터 끝까지 -1칸 -> 역순\n",
    "print(arr[1:6:2]) # index 1 부터 6까지 2칸"
   ]
  },
  {
   "attachments": {},
   "cell_type": "markdown",
   "metadata": {},
   "source": [
    "#### yield"
   ]
  },
  {
   "cell_type": "code",
   "execution_count": 22,
   "metadata": {},
   "outputs": [
    {
     "name": "stdout",
     "output_type": "stream",
     "text": [
      "A\n",
      "A\n",
      "B\n",
      "B\n",
      "C\n",
      "C\n",
      "A\n",
      "B\n",
      "C\n"
     ]
    }
   ],
   "source": [
    "import time\n",
    "\n",
    "# yield -> 반환값이 각각 객체\n",
    "# yield 여러번 사용 가능, return 한번\n",
    "def Fun1():\n",
    "    for i in 'ABC':\n",
    "        # 1초 멈추게\n",
    "        time.sleep(1)\n",
    "        yield i\n",
    "        yield i\n",
    "\n",
    "\n",
    "def Fun2():\n",
    "    arr = []\n",
    "    for i in 'ABC':\n",
    "        time.sleep(1)\n",
    "        arr.append(i)\n",
    "    return arr\n",
    "\n",
    "\n",
    "for i in Fun1():\n",
    "    print(i)\n",
    "\n",
    "for i in Fun2():\n",
    "    print(i)"
   ]
  }
 ],
 "metadata": {
  "kernelspec": {
   "display_name": "base",
   "language": "python",
   "name": "python3"
  },
  "language_info": {
   "codemirror_mode": {
    "name": "ipython",
    "version": 3
   },
   "file_extension": ".py",
   "mimetype": "text/x-python",
   "name": "python",
   "nbconvert_exporter": "python",
   "pygments_lexer": "ipython3",
   "version": "3.9.13"
  },
  "orig_nbformat": 4
 },
 "nbformat": 4,
 "nbformat_minor": 2
}
