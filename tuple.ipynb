{
 "cells": [
  {
   "attachments": {},
   "cell_type": "markdown",
   "metadata": {},
   "source": [
    "#### 튜플"
   ]
  },
  {
   "cell_type": "code",
   "execution_count": 2,
   "metadata": {},
   "outputs": [
    {
     "name": "stdout",
     "output_type": "stream",
     "text": [
      "홍길동전 27000\n"
     ]
    }
   ],
   "source": [
    "# 클래스\n",
    "class Book:\n",
    "    def __init__(self, title, price):\n",
    "        self.title = title\n",
    "        self.price = price\n",
    "\n",
    "\n",
    "mybook = Book('홍길동전', 27000)\n",
    "print(mybook.title, mybook.price)"
   ]
  },
  {
   "cell_type": "code",
   "execution_count": 4,
   "metadata": {},
   "outputs": [
    {
     "name": "stdout",
     "output_type": "stream",
     "text": [
      "홍길동전 27000\n"
     ]
    }
   ],
   "source": [
    "# 일반 튜플 -> 자료구조 (배열과 같이 데이터를 효율적으로 관리하기 위해서)\n",
    "mybook2 = ('홍길동전', 27000)\n",
    "print(mybook2[0], mybook2[1])"
   ]
  },
  {
   "cell_type": "code",
   "execution_count": 7,
   "metadata": {},
   "outputs": [
    {
     "name": "stdout",
     "output_type": "stream",
     "text": [
      "홍길동전 27000\n",
      "홍길동전 27000\n",
      "홍길동전 27000\n",
      "홍길동전 27000\n"
     ]
    }
   ],
   "source": [
    "# 네임드 튜플\n",
    "from collections import namedtuple\n",
    "\n",
    "# 네임드 튜플 정의\n",
    "book = namedtuple('Book', ['title', 'price'])\n",
    "mybook3 = book('홍길동전', 27000)\n",
    "mybook4 = book(price = 27000, title = '홍길동전')\n",
    "print(mybook3.title, mybook3.price)\n",
    "print(mybook3[0], mybook3[1])\n",
    "print(mybook4.title, mybook4.price)\n",
    "print(mybook4[0], mybook4[1])"
   ]
  }
 ],
 "metadata": {
  "kernelspec": {
   "display_name": "base",
   "language": "python",
   "name": "python3"
  },
  "language_info": {
   "codemirror_mode": {
    "name": "ipython",
    "version": 3
   },
   "file_extension": ".py",
   "mimetype": "text/x-python",
   "name": "python",
   "nbconvert_exporter": "python",
   "pygments_lexer": "ipython3",
   "version": "3.9.13"
  },
  "orig_nbformat": 4
 },
 "nbformat": 4,
 "nbformat_minor": 2
}
