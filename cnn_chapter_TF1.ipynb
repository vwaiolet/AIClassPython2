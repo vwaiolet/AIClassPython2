{
 "cells": [
  {
   "attachments": {},
   "cell_type": "markdown",
   "metadata": {},
   "source": [
    "#### 이미지 전처리"
   ]
  },
  {
   "cell_type": "code",
   "execution_count": 14,
   "metadata": {},
   "outputs": [],
   "source": [
    "N_CLASSES = 43\n",
    "RESIZED_IMAGE = (32, 32)"
   ]
  },
  {
   "cell_type": "code",
   "execution_count": 15,
   "metadata": {},
   "outputs": [
    {
     "name": "stdout",
     "output_type": "stream",
     "text": [
      "(19336, 32, 32, 1)\n",
      "(19336, 43)\n"
     ]
    }
   ],
   "source": [
    "import matplotlib.pyplot as plt\n",
    "import glob\n",
    "from skimage.color import rgb2lab\n",
    "from skimage.transform import resize\n",
    "from collections import namedtuple\n",
    "import numpy as np\n",
    "np.random.seed(101)\n",
    "%matplotlib inline\n",
    "\n",
    "Dataset = namedtuple('Dataset', ['X', 'y'])\n",
    "\n",
    "def to_tf_format(imgs):\n",
    "    return np.stack([img[:, :, np.newaxis] for img in imgs], axis=0).astype(np.float32)\n",
    "\n",
    "def read_dataset_ppm(rootpath, n_labels, resize_to):\n",
    "    images = []\n",
    "    labels = []\n",
    "\n",
    "    for c in range(n_labels):\n",
    "        full_path = rootpath + '/' + format(c, '05d') + '/'\n",
    "        for img_name in glob.glob(full_path + '*.ppm'):\n",
    "            img = plt.imread(img_name).astype(np.float32)\n",
    "            img = rgb2lab(img / 255.0)[:,:,0]\n",
    "            if resize_to:\n",
    "                img = resize(img, resize_to, mode='reflect')\n",
    "\n",
    "            label = np.zeros((n_labels, ), dtype=np.float32)\n",
    "            label[c] = 1.0\n",
    "\n",
    "            images.append(img.astype(np.float32))\n",
    "            labels.append(label)\n",
    "\n",
    "    return Dataset(X = to_tf_format(images).astype(np.float32),\n",
    "                    y = np.matrix(labels).astype(np.float32))\n",
    "\n",
    "dataset = read_dataset_ppm('GTSRB_Final_Training_Images/GTSRB/Final_Training/Images', N_CLASSES, RESIZED_IMAGE)\n",
    "print(dataset.X.shape)\n",
    "print(dataset.y.shape)"
   ]
  },
  {
   "cell_type": "code",
   "execution_count": 16,
   "metadata": {},
   "outputs": [
    {
     "name": "stdout",
     "output_type": "stream",
     "text": [
      "[[1. 0. 0. 0. 0. 0. 0. 0. 0. 0. 0. 0. 0. 0. 0. 0. 0. 0. 0. 0. 0. 0. 0. 0.\n",
      "  0. 0. 0. 0. 0. 0. 0. 0. 0. 0. 0. 0. 0. 0. 0. 0. 0. 0. 0.]]\n"
     ]
    },
    {
     "data": {
      "image/png": "[encoded data removed]",
      "text/plain": [
       "<Figure size 432x288 with 1 Axes>"
      ]
     },
     "metadata": {
      "needs_background": "light"
     },
     "output_type": "display_data"
    }
   ],
   "source": [
    "plt.imshow(dataset.X[0, :, :, :].reshape(RESIZED_IMAGE))\n",
    "print(dataset.y[0, :])"
   ]
  },
  {
   "cell_type": "code",
   "execution_count": 17,
   "metadata": {},
   "outputs": [
    {
     "name": "stdout",
     "output_type": "stream",
     "text": [
      "[[0. 0. 0. 0. 0. 0. 0. 0. 0. 0. 0. 0. 1. 0. 0. 0. 0. 0. 0. 0. 0. 0. 0. 0.\n",
      "  0. 0. 0. 0. 0. 0. 0. 0. 0. 0. 0. 0. 0. 0. 0. 0. 0. 0. 0.]]\n"
     ]
    },
    {
     "data": {
      "image/png": "[encoded data removed]",
      "text/plain": [
       "<Figure size 432x288 with 1 Axes>"
      ]
     },
     "metadata": {
      "needs_background": "light"
     },
     "output_type": "display_data"
    }
   ],
   "source": [
    "plt.imshow(dataset.X[-1, :, :, :].reshape(RESIZED_IMAGE))\n",
    "print(dataset.y[-1, :])"
   ]
  },
  {
   "attachments": {},
   "cell_type": "markdown",
   "metadata": {},
   "source": [
    "#### 훈련 데이터와 테스트 데이터 분할"
   ]
  },
  {
   "cell_type": "code",
   "execution_count": 18,
   "metadata": {},
   "outputs": [
    {
     "name": "stdout",
     "output_type": "stream",
     "text": [
      "(14502, 32, 32, 1)\n",
      "(14502, 43)\n",
      "(4834, 32, 32, 1)\n",
      "(4834, 43)\n"
     ]
    }
   ],
   "source": [
    "from sklearn.model_selection import train_test_split\n",
    "\n",
    "idx_train, idx_test = train_test_split(range(dataset.X.shape[0]), test_size=0.25, random_state=101)\n",
    "X_train = dataset.X[idx_train, :, :, :]\n",
    "X_test = dataset.X[idx_test, :, :, :]\n",
    "y_train = dataset.y[idx_train, :]\n",
    "y_test = dataset.y[idx_test, :]\n",
    "\n",
    "print(X_train.shape)\n",
    "print(y_train.shape)\n",
    "print(X_test.shape)\n",
    "print(y_test.shape)"
   ]
  },
  {
   "attachments": {},
   "cell_type": "markdown",
   "metadata": {},
   "source": [
    "#### 모델 훈련 및 예측"
   ]
  },
  {
   "cell_type": "code",
   "execution_count": 19,
   "metadata": {},
   "outputs": [],
   "source": [
    "def minibatcher(X, y, batch_size, shuffle):\n",
    "    assert X.shape[0] == y.shape[0]\n",
    "    n_samples = X.shape[0]\n",
    "\n",
    "    if shuffle:\n",
    "        idx = np.random.permutation(n_samples)\n",
    "    else:\n",
    "        idx = list(range(n_samples))\n",
    "\n",
    "    for k in range(int(np.ceil(n_samples/batch_size))):\n",
    "        from_idx = k*batch_size\n",
    "        to_idx = (k+1)*batch_size\n",
    "        yield X[idx[from_idx:to_idx], :, :, :], y[idx[from_idx:to_idx], :]"
   ]
  },
  {
   "cell_type": "code",
   "execution_count": 20,
   "metadata": {},
   "outputs": [
    {
     "name": "stdout",
     "output_type": "stream",
     "text": [
      "(10000, 32, 32, 1) (10000, 43)\n",
      "(4502, 32, 32, 1) (4502, 43)\n"
     ]
    }
   ],
   "source": [
    "for mb in minibatcher(X_train, y_train, 10000, True):\n",
    "    print(mb[0].shape, mb[1].shape)"
   ]
  },
  {
   "cell_type": "code",
   "execution_count": 27,
   "metadata": {},
   "outputs": [],
   "source": [
    "import tensorflow as tf\n",
    "\n",
    "def fc_no_activation_layer(in_tensors, n_units):\n",
    "    w = tf.get_variable('fc_W',\n",
    "        [in_tensors.get_shape()[1], n_units],\n",
    "        tf.float32,\n",
    "        tf.contrib.layers.xavier_initializer())\n",
    "    b = tf.get_variable('fc_B',\n",
    "        [n_units, ],\n",
    "        tf.float32,\n",
    "        tf.constant_initializer(0.0))\n",
    "    return tf.matmul(in_tensors, w) + b\n",
    "\n",
    "def fc_layer(in_tensors, n_units):\n",
    "    return tf.nn.leaky_relu(fc_no_activation_layer(in_tensors, n_units))\n",
    "\n",
    "def conv_layer(in_tensors, kernel_size, n_units):\n",
    "    w = tf.get_variable('conv_W',\n",
    "        [kernel_size, kernel_size, in_tensors.get_shape()[3], n_units],\n",
    "        tf.float32,\n",
    "        tf.contrib.layers.xavier_initializer())\n",
    "    b = tf.get_variable('conv_B',\n",
    "        [n_units, ],\n",
    "        tf.float32,\n",
    "        tf.constant_initializer(0.0))\n",
    "    return tf.nn.leaky_relu(tf.nn.conv2d(in_tensors, w, [1, 1, 1, 1], 'SAME') + b)\n",
    "\n",
    "def maxpool_layer(in_tensors, sampling):\n",
    "    return tf.nn.max_pool(in_tensors, [1, sampling, sampling, 1], [1, sampling, sampling, 1], 'SAME')\n",
    "\n",
    "def dropout(in_tensors, keep_proba, is_training):\n",
    "    return tf.cond(is_training, lambda: tf.nn.dropout(in_tensors, keep_proba), lambda: in_tensors)  \n",
    "\n",
    "def model(in_tensors, is_training):\n",
    "    with tf.variable_scope('l1'):\n",
    "        l1 = maxpool_layer(conv_layer(in_tensors, 5, 32), 2)\n",
    "        l1_out = dropout(l1, 0.8, is_training)\n",
    "\n",
    "    with tf.variable_scope('l2'):\n",
    "        l2 = maxpool_layer(conv_layer(l1_out, 5, 64), 2)\n",
    "        l2_out = dropout(l2, 0.8, is_training)\n",
    "\n",
    "    with tf.variable_scope('flatten'):\n",
    "        l2_out_flat = tf.layers.flatten(l2_out)\n",
    "\n",
    "    with tf.variable_scope('l3'):\n",
    "        l3 = fc_layer(l2_out_flat, 1024)\n",
    "        l3_out = dropout(l3, 0.6, is_training)\n",
    "\n",
    "    with tf.variable_scope('out'):\n",
    "        out_tensors = fc_no_activation_layer(l3_out, N_CLASSES)\n",
    "\n",
    "    return out_tensors"
   ]
  },
  {
   "cell_type": "code",
   "execution_count": 29,
   "metadata": {},
   "outputs": [
    {
     "ename": "IndentationError",
     "evalue": "unexpected indent (<ipython-input-29-84154c3f1833>, line 31)",
     "output_type": "error",
     "traceback": [
      "\u001b[1;36m  File \u001b[1;32m\"<ipython-input-29-84154c3f1833>\"\u001b[1;36m, line \u001b[1;32m31\u001b[0m\n\u001b[1;33m    y_test_pred, test_loss = session.run([out_y_pred, loss],\u001b[0m\n\u001b[1;37m    ^\u001b[0m\n\u001b[1;31mIndentationError\u001b[0m\u001b[1;31m:\u001b[0m unexpected indent\n"
     ]
    }
   ],
   "source": [
    "from sklearn.metrics import classification_report, confusion_matrix\n",
    "\n",
    "def train_model(X_train, y_train, X_test, y_test, learning_rate, max_epochs, batch_size):\n",
    "    in_X_tensors_batch = tf.placeholder(tf.float32, shape = (None, RESIZED_IMAGE[0], RESIZED_IMAGE[1], 1))\n",
    "    in_y_tensors_batch = tf.placeholder(tf.float32, shape = (None, N_CLASSES))\n",
    "    is_training = tf.placeholder(tf.bool)\n",
    "\n",
    "    logits = model(in_X_tensors_batch, is_training)\n",
    "    out_y_pred = tf.nn.softmax(logits)\n",
    "    loss_score = tf.nn.softmax_cross_entropy_with_logits(logits=logits, labels=in_y_tensors_batch)\n",
    "    loss = tf.reduce_mean(loss_score)\n",
    "    optimizer = tf.train.AdamOptimizer(learning_rate).minimize(loss)\n",
    "\n",
    "    with tf.Session() as session:\n",
    "        session.run(tf.global_variables_initializer())\n",
    "\n",
    "        for epoch in range(max_epochs):\n",
    "            print('Epoch=', epoch)\n",
    "            tf_score = []\n",
    "\n",
    "            for mb in minibatcher(X_train, y_train, batch_size, shuffle = True):\n",
    "                tf_output = session.run([optimizer, loss],\n",
    "                                        feed_dict = {in_X_tensors_batch : mb[0],\n",
    "                                                    in_y_tensors_batch : mb[1],\n",
    "                                                    is_training : True})\n",
    "\n",
    "            tf_score.append(tf_output[1])\n",
    "        print(' train_loss_score=', np.mean(tf_score))\n",
    "\n",
    "    print('TEST SET PERFORMANCE')\n",
    "    y_test_pred, test_loss = session.run([out_y_pred, loss],\n",
    "                                        feed_dict = {in_X_tensors_batch : X_test,\n",
    "                                                    in_y_tensors_batch : y_test,\n",
    "                                                    is_training : False})\n",
    "\n",
    "    print(' test_loss_score=', test_loss)\n",
    "    y_test_pred_classified = np.argmax(y_test_pred, axis=1).astype(np.int32)\n",
    "    y_test_true_classified = np.argmax(y_test, axis=1).astype(np.int32)\n",
    "    print(classification_report(y_test_true_classified, y_test_pred_classified))\n",
    "\n",
    "    cm = confusion_matrix(y_test_true_classified, y_test_pred_classified)\n",
    "\n",
    "    plt.imshow(cm, interpolation='nearest', cmap=plt.cm.Blues)\n",
    "    plt.colorbar()\n",
    "    plt.tight_layout()\n",
    "    plt.show()\n",
    "\n",
    "    plt.imshow(np.log2(cm + 1), interpolation='nearest', cmap=plt.get_cmap('tab20'))\n",
    "    plt.colorbar()\n",
    "    plt.tight_layout()\n",
    "    plt.show()\n",
    "\n",
    "tf.reset_default_graph()"
   ]
  }
 ],
 "metadata": {
  "kernelspec": {
   "display_name": "py36",
   "language": "python",
   "name": "python3"
  },
  "language_info": {
   "codemirror_mode": {
    "name": "ipython",
    "version": 3
   },
   "file_extension": ".py",
   "mimetype": "text/x-python",
   "name": "python",
   "nbconvert_exporter": "python",
   "pygments_lexer": "ipython3",
   "version": "3.6.13"
  },
  "orig_nbformat": 4
 },
 "nbformat": 4,
 "nbformat_minor": 2
}
